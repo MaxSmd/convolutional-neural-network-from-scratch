{
 "cells": [
  {
   "cell_type": "code",
   "id": "initial_id",
   "metadata": {
    "collapsed": true,
    "ExecuteTime": {
     "end_time": "2025-09-10T13:43:52.279536Z",
     "start_time": "2025-09-10T13:43:50.021117Z"
    }
   },
   "source": [
    "import numpy as np\n",
    "import pandas as pd\n",
    "\n",
    "from src.layers import Dense, Softmax, ReLu, Conv2D, Flatten, MaxPool2D\n",
    "from src.model import Sequential\n",
    "from src.losses import categorical_cross_entropy, categorical_cross_entropy_prime"
   ],
   "outputs": [],
   "execution_count": 1
  },
  {
   "metadata": {
    "ExecuteTime": {
     "end_time": "2025-09-10T14:36:45.908930Z",
     "start_time": "2025-09-10T14:36:43.345551Z"
    }
   },
   "cell_type": "code",
   "source": [
    "train = pd.read_csv('../src/data/MNIST_CSV/mnist_train.csv')\n",
    "test = pd.read_csv('../src/data/MNIST_CSV/mnist_test.csv')"
   ],
   "id": "1eb3592b072b3be8",
   "outputs": [],
   "execution_count": 28
  },
  {
   "metadata": {
    "ExecuteTime": {
     "end_time": "2025-09-10T14:36:45.924367Z",
     "start_time": "2025-09-10T14:36:45.918924Z"
    }
   },
   "cell_type": "code",
   "source": [
    "X_train = train.iloc[:, 1:].values\n",
    "y_train = train.iloc[:, 0].values\n",
    "\n",
    "X_test = test.iloc[:, 1:].values\n",
    "y_test = test.iloc[:, 0].values"
   ],
   "id": "1abf6ebeabb7840f",
   "outputs": [],
   "execution_count": 29
  },
  {
   "metadata": {
    "ExecuteTime": {
     "end_time": "2025-09-10T14:36:46.196887Z",
     "start_time": "2025-09-10T14:36:45.935551Z"
    }
   },
   "cell_type": "code",
   "source": [
    "X_train = X_train.astype('float32') / 255\n",
    "X_test = X_test.astype('float32') / 255"
   ],
   "id": "e73d59f35e7dfe5a",
   "outputs": [],
   "execution_count": 30
  },
  {
   "metadata": {
    "ExecuteTime": {
     "end_time": "2025-09-10T14:36:47.129429Z",
     "start_time": "2025-09-10T14:36:47.122503Z"
    }
   },
   "cell_type": "code",
   "source": [
    "def to_categorical(y: np.array) -> np.ndarray:\n",
    "    \"\"\"\n",
    "    Args:\n",
    "        y (np.array): 1 dimensional array\n",
    "    \"\"\"\n",
    "    num_classes = len(np.unique(y))\n",
    "    res = np.zeros((len(y), num_classes))\n",
    "    for i, y_i in enumerate(y):\n",
    "        res[i, y_i] = 1\n",
    "    return res"
   ],
   "id": "e660f3ec1f6797e3",
   "outputs": [],
   "execution_count": 31
  },
  {
   "metadata": {
    "ExecuteTime": {
     "end_time": "2025-09-10T14:36:48.999569Z",
     "start_time": "2025-09-10T14:36:48.977042Z"
    }
   },
   "cell_type": "code",
   "source": [
    "y_train_categorical = to_categorical(y_train)\n",
    "y_test_categorical = to_categorical(y_test)"
   ],
   "id": "877684ee99f6c46c",
   "outputs": [],
   "execution_count": 32
  },
  {
   "metadata": {
    "ExecuteTime": {
     "end_time": "2025-09-10T14:36:50.800457Z",
     "start_time": "2025-09-10T14:36:50.792400Z"
    }
   },
   "cell_type": "code",
   "source": [
    "model = Sequential()\n",
    "model.add_layer(Dense(28 * 28, 128))\n",
    "model.add_layer(ReLu())\n",
    "model.add_layer(Dense(128, 10))\n",
    "model.add_layer(Softmax())"
   ],
   "id": "d78069d8da0e9d46",
   "outputs": [],
   "execution_count": 33
  },
  {
   "metadata": {
    "ExecuteTime": {
     "end_time": "2025-09-10T14:36:51.756725Z",
     "start_time": "2025-09-10T14:36:51.753553Z"
    }
   },
   "cell_type": "code",
   "source": [
    "X_train = X_train[:10000]\n",
    "y_train = y_train[:10000]"
   ],
   "id": "a1f8a48b19f80f59",
   "outputs": [],
   "execution_count": 34
  },
  {
   "metadata": {
    "ExecuteTime": {
     "end_time": "2025-09-10T14:36:56.571401Z",
     "start_time": "2025-09-10T14:36:54.226461Z"
    }
   },
   "cell_type": "code",
   "source": [
    "model.fit(\n",
    "    X_train, \n",
    "    y_train_categorical, \n",
    "    loss=categorical_cross_entropy, \n",
    "    loss_prime=categorical_cross_entropy_prime, \n",
    "    epochs=25, \n",
    "    learning_rate=0.01, \n",
    "    batch_size=128, \n",
    "    verbose=True\n",
    ")"
   ],
   "id": "1c8388f9190d3291",
   "outputs": [
    {
     "name": "stdout",
     "output_type": "stream",
     "text": [
      "1/25, loss=1.986294\n",
      "2/25, loss=1.403308\n",
      "3/25, loss=1.064471\n",
      "4/25, loss=0.867437\n",
      "5/25, loss=0.745821\n",
      "6/25, loss=0.664013\n",
      "7/25, loss=0.606309\n",
      "8/25, loss=0.562665\n",
      "9/25, loss=0.528715\n",
      "10/25, loss=0.501205\n",
      "11/25, loss=0.479308\n",
      "12/25, loss=0.460126\n",
      "13/25, loss=0.444022\n",
      "14/25, loss=0.429764\n",
      "15/25, loss=0.417424\n",
      "16/25, loss=0.406655\n",
      "17/25, loss=0.396649\n",
      "18/25, loss=0.388062\n",
      "19/25, loss=0.380178\n",
      "20/25, loss=0.372605\n",
      "21/25, loss=0.365984\n",
      "22/25, loss=0.359499\n",
      "23/25, loss=0.353984\n",
      "24/25, loss=0.348332\n",
      "25/25, loss=0.343407\n"
     ]
    }
   ],
   "execution_count": 35
  },
  {
   "metadata": {
    "ExecuteTime": {
     "end_time": "2025-09-10T14:36:59.120217Z",
     "start_time": "2025-09-10T14:36:59.065122Z"
    }
   },
   "cell_type": "code",
   "source": [
    "y_pred = model.predict(X_test) \n",
    "pred_labels = np.argmax(y_pred, axis=1)\n",
    "accuracy = np.mean(pred_labels == y_test)\n",
    "print(f\"Test accuracy: {accuracy * 100:.2f}%\")"
   ],
   "id": "bec6ad80810d0aee",
   "outputs": [
    {
     "name": "stdout",
     "output_type": "stream",
     "text": [
      "Test accuracy: 90.20%\n"
     ]
    }
   ],
   "execution_count": 36
  },
  {
   "metadata": {
    "ExecuteTime": {
     "end_time": "2025-09-10T13:49:39.802921Z",
     "start_time": "2025-09-10T13:49:39.793091Z"
    }
   },
   "cell_type": "code",
   "source": "X_train.shape",
   "id": "ad5d05def7780c6c",
   "outputs": [
    {
     "data": {
      "text/plain": [
       "(59999, 784)"
      ]
     },
     "execution_count": 11,
     "metadata": {},
     "output_type": "execute_result"
    }
   ],
   "execution_count": 11
  },
  {
   "metadata": {
    "ExecuteTime": {
     "end_time": "2025-09-10T13:49:55.383875Z",
     "start_time": "2025-09-10T13:49:55.373267Z"
    }
   },
   "cell_type": "code",
   "source": [
    "X_train = X_train.reshape(-1, 28, 28, 1)\n",
    "X_train = X_train[:10000]\n",
    "y_train = y_train[:10000]\n",
    "X_test = X_test.reshape(-1, 28, 28, 1)\n",
    "X_train.shape"
   ],
   "id": "a2a4125f5b642a85",
   "outputs": [
    {
     "data": {
      "text/plain": [
       "(10000, 28, 28, 1)"
      ]
     },
     "execution_count": 13,
     "metadata": {},
     "output_type": "execute_result"
    }
   ],
   "execution_count": 13
  },
  {
   "metadata": {
    "ExecuteTime": {
     "end_time": "2025-09-10T14:03:54.532306Z",
     "start_time": "2025-09-10T14:03:54.475349Z"
    }
   },
   "cell_type": "code",
   "source": [
    "cnn_model = Sequential()\n",
    "\n",
    "cnn_model.add_layer(Conv2D(num_filters=16, kernel_size=3, stride=1, padding='same'))\n",
    "cnn_model.add_layer(ReLu())\n",
    "cnn_model.add_layer(MaxPool2D(pool_size=2, stride=2))\n",
    "\n",
    "cnn_model.add_layer(Conv2D(num_filters=16, kernel_size=3, stride=1, padding='same'))\n",
    "cnn_model.add_layer(ReLu())\n",
    "cnn_model.add_layer(MaxPool2D(pool_size=2, stride=2))\n",
    "\n",
    "cnn_model.add_layer(Flatten())\n",
    "cnn_model.add_layer(Dense(7 * 7 * 16, 128))\n",
    "cnn_model.add_layer(ReLu())\n",
    "cnn_model.add_layer(Dense(128, 10))\n",
    "cnn_model.add_layer(Softmax())"
   ],
   "id": "664eb2fac4d0fa62",
   "outputs": [],
   "execution_count": 20
  },
  {
   "metadata": {
    "ExecuteTime": {
     "end_time": "2025-09-10T14:33:48.418586Z",
     "start_time": "2025-09-10T14:03:57.034197Z"
    }
   },
   "cell_type": "code",
   "source": [
    "cnn_model.fit(\n",
    "    X_train, \n",
    "    y_train_categorical, \n",
    "    loss=categorical_cross_entropy, \n",
    "    loss_prime=categorical_cross_entropy_prime, \n",
    "    epochs=25, \n",
    "    learning_rate=0.01, \n",
    "    batch_size=128, \n",
    "    verbose=True\n",
    ")"
   ],
   "id": "87eeefeb2483204c",
   "outputs": [
    {
     "name": "stdout",
     "output_type": "stream",
     "text": [
      "1/25, loss=1.528392\n",
      "2/25, loss=0.617684\n",
      "3/25, loss=0.424528\n",
      "4/25, loss=0.348896\n",
      "5/25, loss=0.305156\n",
      "6/25, loss=0.275017\n",
      "7/25, loss=0.251551\n",
      "8/25, loss=0.231473\n",
      "9/25, loss=0.214562\n",
      "10/25, loss=0.200913\n",
      "11/25, loss=0.189980\n",
      "12/25, loss=0.177998\n",
      "13/25, loss=0.169016\n",
      "14/25, loss=0.159839\n",
      "15/25, loss=0.157752\n",
      "16/25, loss=0.149941\n",
      "17/25, loss=0.139807\n",
      "18/25, loss=0.135267\n",
      "19/25, loss=0.127677\n",
      "20/25, loss=0.122576\n",
      "21/25, loss=0.119905\n",
      "22/25, loss=0.113203\n",
      "23/25, loss=0.109140\n",
      "24/25, loss=0.104980\n",
      "25/25, loss=0.101174\n"
     ]
    }
   ],
   "execution_count": 21
  },
  {
   "metadata": {
    "ExecuteTime": {
     "end_time": "2025-09-10T14:34:13.329613Z",
     "start_time": "2025-09-10T14:33:53.295719Z"
    }
   },
   "cell_type": "code",
   "source": [
    "y_pred = cnn_model.predict(X_test) \n",
    "pred_labels = np.argmax(y_pred, axis=1)\n",
    "accuracy = np.mean(pred_labels == y_test)\n",
    "print(f\"Test accuracy: {accuracy * 100:.2f}%\")"
   ],
   "id": "e2887e97b47810da",
   "outputs": [
    {
     "name": "stdout",
     "output_type": "stream",
     "text": [
      "Test accuracy: 95.66%\n"
     ]
    }
   ],
   "execution_count": 22
  }
 ],
 "metadata": {
  "kernelspec": {
   "display_name": "Python 3",
   "language": "python",
   "name": "python3"
  },
  "language_info": {
   "codemirror_mode": {
    "name": "ipython",
    "version": 2
   },
   "file_extension": ".py",
   "mimetype": "text/x-python",
   "name": "python",
   "nbconvert_exporter": "python",
   "pygments_lexer": "ipython2",
   "version": "2.7.6"
  }
 },
 "nbformat": 4,
 "nbformat_minor": 5
}
